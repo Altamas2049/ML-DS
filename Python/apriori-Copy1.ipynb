{
 "cells": [
  {
   "cell_type": "markdown",
   "metadata": {
    "colab_type": "text",
    "id": "1fziHl7Ar94J"
   },
   "source": [
    "# Apriori"
   ]
  },
  {
   "cell_type": "code",
   "execution_count": 6,
   "metadata": {},
   "outputs": [
    {
     "name": "stdout",
     "output_type": "stream",
     "text": [
      "Collecting apyori\n",
      "  Using cached https://files.pythonhosted.org/packages/5e/62/5ffde5c473ea4b033490617ec5caa80d59804875ad3c3c57c0976533a21a/apyori-1.1.2.tar.gz\n",
      "Building wheels for collected packages: apyori\n",
      "  Building wheel for apyori (setup.py): started\n",
      "  Building wheel for apyori (setup.py): finished with status 'done'\n",
      "  Created wheel for apyori: filename=apyori-1.1.2-cp37-none-any.whl size=5979 sha256=958a2f80fb07144267c4ef64f6c2a96478d112b91d8b0494e0efb15ffe22c332\n",
      "  Stored in directory: C:\\Users\\Asus\\AppData\\Local\\pip\\Cache\\wheels\\5d\\92\\bb\\474bbadbc8c0062b9eb168f69982a0443263f8ab1711a8cad0\n",
      "Successfully built apyori\n",
      "Installing collected packages: apyori\n",
      "Successfully installed apyori-1.1.2\n"
     ]
    }
   ],
   "source": [
    "!pip install apyori"
   ]
  },
  {
   "cell_type": "markdown",
   "metadata": {
    "colab_type": "text",
    "id": "eiNwni1xsEgT"
   },
   "source": [
    "## Importing the libraries"
   ]
  },
  {
   "cell_type": "code",
   "execution_count": 2,
   "metadata": {
    "colab": {},
    "colab_type": "code",
    "id": "UJfitBClsJlT"
   },
   "outputs": [],
   "source": [
    "import numpy as np\n",
    "import matplotlib.pyplot as plt\n",
    "import pandas as pd"
   ]
  },
  {
   "cell_type": "markdown",
   "metadata": {
    "colab_type": "text",
    "id": "vLt-7XUKsXBd"
   },
   "source": [
    "## Data Preprocessing"
   ]
  },
  {
   "cell_type": "code",
   "execution_count": 3,
   "metadata": {},
   "outputs": [],
   "source": [
    "dataset = pd.read_csv('Market_Basket_Optimisation.csv', header = None)\n",
    "transactions=[]\n",
    "for i in range(0,751):\n",
    "    transactions.append([str(dataset.values[i,j])for j in range(0,20)])    "
   ]
  },
  {
   "cell_type": "markdown",
   "metadata": {
    "colab_type": "text",
    "id": "1wYZdBd5sea_"
   },
   "source": [
    "## Training the Apriori model on the dataset"
   ]
  },
  {
   "cell_type": "code",
   "execution_count": 7,
   "metadata": {},
   "outputs": [],
   "source": [
    "from apyori import apriori\n",
    "rules = apriori(transactions = transactions, min_support = 0.003, min_confidence = 0.2, min_lift = 3, min_length = 2, max_length = 2)"
   ]
  },
  {
   "cell_type": "markdown",
   "metadata": {
    "colab_type": "text",
    "id": "b176YNwWspiO"
   },
   "source": [
    "## Visualising the results"
   ]
  },
  {
   "cell_type": "markdown",
   "metadata": {
    "colab_type": "text",
    "id": "iO6bF_dImT-E"
   },
   "source": [
    "### Displaying the first results coming directly from the output of the apriori function"
   ]
  },
  {
   "cell_type": "code",
   "execution_count": 8,
   "metadata": {},
   "outputs": [],
   "source": [
    "results = list(rules)"
   ]
  },
  {
   "cell_type": "code",
   "execution_count": 9,
   "metadata": {},
   "outputs": [
    {
     "data": {
      "text/plain": [
       "[RelationRecord(items=frozenset({'almonds', 'burgers'}), support=0.007989347536617843, ordered_statistics=[OrderedStatistic(items_base=frozenset({'almonds'}), items_add=frozenset({'burgers'}), confidence=0.2857142857142857, lift=3.576190476190476)]),\n",
       " RelationRecord(items=frozenset({'almonds', 'soup'}), support=0.009320905459387484, ordered_statistics=[OrderedStatistic(items_base=frozenset({'almonds'}), items_add=frozenset({'soup'}), confidence=0.3333333333333333, lift=4.1722222222222225)]),\n",
       " RelationRecord(items=frozenset({'asparagus', 'milk'}), support=0.0039946737683089215, ordered_statistics=[OrderedStatistic(items_base=frozenset({'asparagus'}), items_add=frozenset({'milk'}), confidence=0.6, lift=4.84516129032258)]),\n",
       " RelationRecord(items=frozenset({'soup', 'avocado'}), support=0.007989347536617843, ordered_statistics=[OrderedStatistic(items_base=frozenset({'avocado'}), items_add=frozenset({'soup'}), confidence=0.2727272727272727, lift=3.4136363636363636)]),\n",
       " RelationRecord(items=frozenset({'barbecue sauce', 'milk'}), support=0.0039946737683089215, ordered_statistics=[OrderedStatistic(items_base=frozenset({'barbecue sauce'}), items_add=frozenset({'milk'}), confidence=0.42857142857142855, lift=3.4608294930875574)]),\n",
       " RelationRecord(items=frozenset({'barbecue sauce', 'soup'}), support=0.0039946737683089215, ordered_statistics=[OrderedStatistic(items_base=frozenset({'barbecue sauce'}), items_add=frozenset({'soup'}), confidence=0.42857142857142855, lift=5.364285714285714)]),\n",
       " RelationRecord(items=frozenset({'black tea', 'ground beef'}), support=0.0039946737683089215, ordered_statistics=[OrderedStatistic(items_base=frozenset({'black tea'}), items_add=frozenset({'ground beef'}), confidence=0.375, lift=3.705592105263158)]),\n",
       " RelationRecord(items=frozenset({'black tea', 'herb & pepper'}), support=0.0039946737683089215, ordered_statistics=[OrderedStatistic(items_base=frozenset({'black tea'}), items_add=frozenset({'herb & pepper'}), confidence=0.375, lift=4.940789473684211)]),\n",
       " RelationRecord(items=frozenset({'black tea', 'milk'}), support=0.0039946737683089215, ordered_statistics=[OrderedStatistic(items_base=frozenset({'black tea'}), items_add=frozenset({'milk'}), confidence=0.375, lift=3.028225806451613)]),\n",
       " RelationRecord(items=frozenset({'black tea', 'salmon'}), support=0.0039946737683089215, ordered_statistics=[OrderedStatistic(items_base=frozenset({'black tea'}), items_add=frozenset({'salmon'}), confidence=0.375, lift=8.04642857142857)]),\n",
       " RelationRecord(items=frozenset({'black tea', 'spaghetti'}), support=0.006657789613848202, ordered_statistics=[OrderedStatistic(items_base=frozenset({'black tea'}), items_add=frozenset({'spaghetti'}), confidence=0.6249999999999999, lift=3.476851851851851)]),\n",
       " RelationRecord(items=frozenset({'cooking oil', 'blueberries'}), support=0.0039946737683089215, ordered_statistics=[OrderedStatistic(items_base=frozenset({'blueberries'}), items_add=frozenset({'cooking oil'}), confidence=0.5, lift=9.387500000000001)]),\n",
       " RelationRecord(items=frozenset({'blueberries', 'soup'}), support=0.0039946737683089215, ordered_statistics=[OrderedStatistic(items_base=frozenset({'blueberries'}), items_add=frozenset({'soup'}), confidence=0.5, lift=6.258333333333334)]),\n",
       " RelationRecord(items=frozenset({'body spray', 'green tea'}), support=0.005326231691078562, ordered_statistics=[OrderedStatistic(items_base=frozenset({'body spray'}), items_add=frozenset({'green tea'}), confidence=0.4444444444444445, lift=3.476851851851852)]),\n",
       " RelationRecord(items=frozenset({'body spray', 'soup'}), support=0.005326231691078562, ordered_statistics=[OrderedStatistic(items_base=frozenset({'body spray'}), items_add=frozenset({'soup'}), confidence=0.4444444444444445, lift=5.562962962962963)]),\n",
       " RelationRecord(items=frozenset({'energy bar', 'brownies'}), support=0.0039946737683089215, ordered_statistics=[OrderedStatistic(items_base=frozenset({'brownies'}), items_add=frozenset({'energy bar'}), confidence=0.25, lift=6.474137931034483)]),\n",
       " RelationRecord(items=frozenset({'olive oil', 'brownies'}), support=0.005326231691078562, ordered_statistics=[OrderedStatistic(items_base=frozenset({'brownies'}), items_add=frozenset({'olive oil'}), confidence=0.33333333333333337, lift=4.723270440251572)]),\n",
       " RelationRecord(items=frozenset({'gums', 'burgers'}), support=0.0039946737683089215, ordered_statistics=[OrderedStatistic(items_base=frozenset({'gums'}), items_add=frozenset({'burgers'}), confidence=0.3, lift=3.755)]),\n",
       " RelationRecord(items=frozenset({'cottage cheese', 'butter'}), support=0.0039946737683089215, ordered_statistics=[OrderedStatistic(items_base=frozenset({'cottage cheese'}), items_add=frozenset({'butter'}), confidence=0.21428571428571427, lift=8.469924812030074)]),\n",
       " RelationRecord(items=frozenset({'cake', 'fresh tuna'}), support=0.005326231691078562, ordered_statistics=[OrderedStatistic(items_base=frozenset({'fresh tuna'}), items_add=frozenset({'cake'}), confidence=0.22222222222222224, lift=3.0905349794238686)]),\n",
       " RelationRecord(items=frozenset({'cake', 'toothpaste'}), support=0.0039946737683089215, ordered_statistics=[OrderedStatistic(items_base=frozenset({'toothpaste'}), items_add=frozenset({'cake'}), confidence=0.42857142857142855, lift=5.9603174603174605)]),\n",
       " RelationRecord(items=frozenset({'carrots', 'ground beef'}), support=0.005326231691078562, ordered_statistics=[OrderedStatistic(items_base=frozenset({'carrots'}), items_add=frozenset({'ground beef'}), confidence=0.5, lift=4.940789473684211)]),\n",
       " RelationRecord(items=frozenset({'green tea', 'cereals'}), support=0.0039946737683089215, ordered_statistics=[OrderedStatistic(items_base=frozenset({'cereals'}), items_add=frozenset({'green tea'}), confidence=0.42857142857142855, lift=3.352678571428571)]),\n",
       " RelationRecord(items=frozenset({'chicken', 'extra dark chocolate'}), support=0.0039946737683089215, ordered_statistics=[OrderedStatistic(items_base=frozenset({'extra dark chocolate'}), items_add=frozenset({'chicken'}), confidence=0.5, lift=8.16304347826087)]),\n",
       " RelationRecord(items=frozenset({'fresh tuna', 'chicken'}), support=0.005326231691078562, ordered_statistics=[OrderedStatistic(items_base=frozenset({'fresh tuna'}), items_add=frozenset({'chicken'}), confidence=0.22222222222222224, lift=3.628019323671498)]),\n",
       " RelationRecord(items=frozenset({'light cream', 'chicken'}), support=0.0039946737683089215, ordered_statistics=[OrderedStatistic(items_base=frozenset({'light cream'}), items_add=frozenset({'chicken'}), confidence=0.25, lift=4.081521739130435)]),\n",
       " RelationRecord(items=frozenset({'chutney', 'spaghetti'}), support=0.0039946737683089215, ordered_statistics=[OrderedStatistic(items_base=frozenset({'chutney'}), items_add=frozenset({'spaghetti'}), confidence=0.75, lift=4.1722222222222225)]),\n",
       " RelationRecord(items=frozenset({'cider', 'frozen vegetables'}), support=0.0039946737683089215, ordered_statistics=[OrderedStatistic(items_base=frozenset({'cider'}), items_add=frozenset({'frozen vegetables'}), confidence=0.375, lift=4.141544117647059)]),\n",
       " RelationRecord(items=frozenset({'cooking oil', 'gums'}), support=0.0039946737683089215, ordered_statistics=[OrderedStatistic(items_base=frozenset({'gums'}), items_add=frozenset({'cooking oil'}), confidence=0.3, lift=5.6325)]),\n",
       " RelationRecord(items=frozenset({'cooking oil', 'oil'}), support=0.006657789613848202, ordered_statistics=[OrderedStatistic(items_base=frozenset({'oil'}), items_add=frozenset({'cooking oil'}), confidence=0.29411764705882354, lift=5.522058823529412)]),\n",
       " RelationRecord(items=frozenset({'cooking oil', 'parmesan cheese'}), support=0.0039946737683089215, ordered_statistics=[OrderedStatistic(items_base=frozenset({'parmesan cheese'}), items_add=frozenset({'cooking oil'}), confidence=0.21428571428571427, lift=4.023214285714285)]),\n",
       " RelationRecord(items=frozenset({'cottage cheese', 'frozen smoothie'}), support=0.006657789613848202, ordered_statistics=[OrderedStatistic(items_base=frozenset({'cottage cheese'}), items_add=frozenset({'frozen smoothie'}), confidence=0.3571428571428571, lift=6.877289377289376)]),\n",
       " RelationRecord(items=frozenset({'escalope', 'mushroom cream sauce'}), support=0.0039946737683089215, ordered_statistics=[OrderedStatistic(items_base=frozenset({'mushroom cream sauce'}), items_add=frozenset({'escalope'}), confidence=0.2727272727272727, lift=3.471494607087827)]),\n",
       " RelationRecord(items=frozenset({'escalope', 'shallot'}), support=0.005326231691078562, ordered_statistics=[OrderedStatistic(items_base=frozenset({'shallot'}), items_add=frozenset({'escalope'}), confidence=0.4, lift=5.091525423728814)]),\n",
       " RelationRecord(items=frozenset({'frozen vegetables', 'extra dark chocolate'}), support=0.0039946737683089215, ordered_statistics=[OrderedStatistic(items_base=frozenset({'extra dark chocolate'}), items_add=frozenset({'frozen vegetables'}), confidence=0.5, lift=5.522058823529412)]),\n",
       " RelationRecord(items=frozenset({'extra dark chocolate', 'turkey'}), support=0.005326231691078562, ordered_statistics=[OrderedStatistic(items_base=frozenset({'extra dark chocolate'}), items_add=frozenset({'turkey'}), confidence=0.6666666666666667, lift=8.344444444444445)]),\n",
       " RelationRecord(items=frozenset({'strawberries', 'french fries'}), support=0.007989347536617843, ordered_statistics=[OrderedStatistic(items_base=frozenset({'strawberries'}), items_add=frozenset({'french fries'}), confidence=0.5, lift=3.129166666666667)]),\n",
       " RelationRecord(items=frozenset({'french wine', 'fresh bread'}), support=0.005326231691078562, ordered_statistics=[OrderedStatistic(items_base=frozenset({'french wine'}), items_add=frozenset({'fresh bread'}), confidence=0.22222222222222224, lift=5.562962962962963)]),\n",
       " RelationRecord(items=frozenset({'french wine', 'frozen vegetables'}), support=0.007989347536617843, ordered_statistics=[OrderedStatistic(items_base=frozenset({'french wine'}), items_add=frozenset({'frozen vegetables'}), confidence=0.33333333333333337, lift=3.681372549019608)]),\n",
       " RelationRecord(items=frozenset({'french wine', 'olive oil'}), support=0.005326231691078562, ordered_statistics=[OrderedStatistic(items_base=frozenset({'french wine'}), items_add=frozenset({'olive oil'}), confidence=0.22222222222222224, lift=3.148846960167715)]),\n",
       " RelationRecord(items=frozenset({'french wine', 'rice'}), support=0.005326231691078562, ordered_statistics=[OrderedStatistic(items_base=frozenset({'french wine'}), items_add=frozenset({'rice'}), confidence=0.22222222222222224, lift=11.920634920634921), OrderedStatistic(items_base=frozenset({'rice'}), items_add=frozenset({'french wine'}), confidence=0.2857142857142857, lift=11.920634920634921)]),\n",
       " RelationRecord(items=frozenset({'fresh bread', 'rice'}), support=0.0039946737683089215, ordered_statistics=[OrderedStatistic(items_base=frozenset({'rice'}), items_add=frozenset({'fresh bread'}), confidence=0.21428571428571427, lift=5.364285714285714)]),\n",
       " RelationRecord(items=frozenset({'tomato juice', 'fresh bread'}), support=0.007989347536617843, ordered_statistics=[OrderedStatistic(items_base=frozenset({'fresh bread'}), items_add=frozenset({'tomato juice'}), confidence=0.2, lift=4.291428571428572)]),\n",
       " RelationRecord(items=frozenset({'honey', 'fresh tuna'}), support=0.005326231691078562, ordered_statistics=[OrderedStatistic(items_base=frozenset({'fresh tuna'}), items_add=frozenset({'honey'}), confidence=0.22222222222222224, lift=7.256038647342996)]),\n",
       " RelationRecord(items=frozenset({'olive oil', 'fresh tuna'}), support=0.009320905459387484, ordered_statistics=[OrderedStatistic(items_base=frozenset({'fresh tuna'}), items_add=frozenset({'olive oil'}), confidence=0.38888888888888895, lift=5.510482180293502)]),\n",
       " RelationRecord(items=frozenset({'frozen smoothie', 'green grapes'}), support=0.0039946737683089215, ordered_statistics=[OrderedStatistic(items_base=frozenset({'green grapes'}), items_add=frozenset({'frozen smoothie'}), confidence=0.3, lift=5.776923076923076)]),\n",
       " RelationRecord(items=frozenset({'vegetables mix', 'frozen smoothie'}), support=0.0039946737683089215, ordered_statistics=[OrderedStatistic(items_base=frozenset({'vegetables mix'}), items_add=frozenset({'frozen smoothie'}), confidence=0.25, lift=4.814102564102564)]),\n",
       " RelationRecord(items=frozenset({'gums', 'frozen vegetables'}), support=0.0039946737683089215, ordered_statistics=[OrderedStatistic(items_base=frozenset({'gums'}), items_add=frozenset({'frozen vegetables'}), confidence=0.3, lift=3.313235294117647)]),\n",
       " RelationRecord(items=frozenset({'light mayo', 'frozen vegetables'}), support=0.006657789613848202, ordered_statistics=[OrderedStatistic(items_base=frozenset({'light mayo'}), items_add=frozenset({'frozen vegetables'}), confidence=0.29411764705882354, lift=3.2482698961937717)]),\n",
       " RelationRecord(items=frozenset({'magazines', 'frozen vegetables'}), support=0.0039946737683089215, ordered_statistics=[OrderedStatistic(items_base=frozenset({'magazines'}), items_add=frozenset({'frozen vegetables'}), confidence=0.375, lift=4.141544117647059)]),\n",
       " RelationRecord(items=frozenset({'frozen vegetables', 'mashed potato'}), support=0.0039946737683089215, ordered_statistics=[OrderedStatistic(items_base=frozenset({'mashed potato'}), items_add=frozenset({'frozen vegetables'}), confidence=0.6, lift=6.626470588235294)]),\n",
       " RelationRecord(items=frozenset({'tomato sauce', 'frozen vegetables'}), support=0.005326231691078562, ordered_statistics=[OrderedStatistic(items_base=frozenset({'tomato sauce'}), items_add=frozenset({'frozen vegetables'}), confidence=0.2857142857142857, lift=3.1554621848739495)]),\n",
       " RelationRecord(items=frozenset({'green tea', 'toothpaste'}), support=0.0039946737683089215, ordered_statistics=[OrderedStatistic(items_base=frozenset({'toothpaste'}), items_add=frozenset({'green tea'}), confidence=0.42857142857142855, lift=3.352678571428571)]),\n",
       " RelationRecord(items=frozenset({'ground beef', 'nonfat milk'}), support=0.0039946737683089215, ordered_statistics=[OrderedStatistic(items_base=frozenset({'nonfat milk'}), items_add=frozenset({'ground beef'}), confidence=0.5, lift=4.940789473684211)]),\n",
       " RelationRecord(items=frozenset({'gums', 'low fat yogurt'}), support=0.0039946737683089215, ordered_statistics=[OrderedStatistic(items_base=frozenset({'gums'}), items_add=frozenset({'low fat yogurt'}), confidence=0.3, lift=3.5761904761904764)]),\n",
       " RelationRecord(items=frozenset({'gums', 'soup'}), support=0.0039946737683089215, ordered_statistics=[OrderedStatistic(items_base=frozenset({'gums'}), items_add=frozenset({'soup'}), confidence=0.3, lift=3.755)]),\n",
       " RelationRecord(items=frozenset({'mint', 'ham'}), support=0.0039946737683089215, ordered_statistics=[OrderedStatistic(items_base=frozenset({'mint'}), items_add=frozenset({'ham'}), confidence=0.2727272727272727, lift=10.24090909090909)]),\n",
       " RelationRecord(items=frozenset({'pancakes', 'ham'}), support=0.006657789613848202, ordered_statistics=[OrderedStatistic(items_base=frozenset({'ham'}), items_add=frozenset({'pancakes'}), confidence=0.25, lift=3.6813725490196076)]),\n",
       " RelationRecord(items=frozenset({'spaghetti', 'ham'}), support=0.014647137150466045, ordered_statistics=[OrderedStatistic(items_base=frozenset({'ham'}), items_add=frozenset({'spaghetti'}), confidence=0.55, lift=3.05962962962963)]),\n",
       " RelationRecord(items=frozenset({'herb & pepper', 'light cream'}), support=0.0039946737683089215, ordered_statistics=[OrderedStatistic(items_base=frozenset({'light cream'}), items_add=frozenset({'herb & pepper'}), confidence=0.25, lift=3.293859649122807)]),\n",
       " RelationRecord(items=frozenset({'herb & pepper', 'mint'}), support=0.0039946737683089215, ordered_statistics=[OrderedStatistic(items_base=frozenset({'mint'}), items_add=frozenset({'herb & pepper'}), confidence=0.2727272727272727, lift=3.5933014354066986)]),\n",
       " RelationRecord(items=frozenset({'herb & pepper', 'tomato sauce'}), support=0.006657789613848202, ordered_statistics=[OrderedStatistic(items_base=frozenset({'tomato sauce'}), items_add=frozenset({'herb & pepper'}), confidence=0.3571428571428571, lift=4.705513784461153)]),\n",
       " RelationRecord(items=frozenset({'herb & pepper', 'whole wheat pasta'}), support=0.009320905459387484, ordered_statistics=[OrderedStatistic(items_base=frozenset({'whole wheat pasta'}), items_add=frozenset({'herb & pepper'}), confidence=0.24137931034482762, lift=3.180278281911676)]),\n",
       " RelationRecord(items=frozenset({'light cream', 'olive oil'}), support=0.006657789613848202, ordered_statistics=[OrderedStatistic(items_base=frozenset({'light cream'}), items_add=frozenset({'olive oil'}), confidence=0.41666666666666663, lift=5.904088050314464)]),\n",
       " RelationRecord(items=frozenset({'light cream', 'soup'}), support=0.0039946737683089215, ordered_statistics=[OrderedStatistic(items_base=frozenset({'light cream'}), items_add=frozenset({'soup'}), confidence=0.25, lift=3.129166666666667)]),\n",
       " RelationRecord(items=frozenset({'light cream', 'tomato sauce'}), support=0.0039946737683089215, ordered_statistics=[OrderedStatistic(items_base=frozenset({'light cream'}), items_add=frozenset({'tomato sauce'}), confidence=0.25, lift=13.410714285714285), OrderedStatistic(items_base=frozenset({'tomato sauce'}), items_add=frozenset({'light cream'}), confidence=0.21428571428571427, lift=13.410714285714285)]),\n",
       " RelationRecord(items=frozenset({'low fat yogurt', 'mushroom cream sauce'}), support=0.0039946737683089215, ordered_statistics=[OrderedStatistic(items_base=frozenset({'mushroom cream sauce'}), items_add=frozenset({'low fat yogurt'}), confidence=0.2727272727272727, lift=3.251082251082251)]),\n",
       " RelationRecord(items=frozenset({'low fat yogurt', 'oil'}), support=0.007989347536617843, ordered_statistics=[OrderedStatistic(items_base=frozenset({'oil'}), items_add=frozenset({'low fat yogurt'}), confidence=0.35294117647058826, lift=4.207282913165266)]),\n",
       " RelationRecord(items=frozenset({'magazines', 'salmon'}), support=0.0039946737683089215, ordered_statistics=[OrderedStatistic(items_base=frozenset({'magazines'}), items_add=frozenset({'salmon'}), confidence=0.375, lift=8.04642857142857)]),\n",
       " RelationRecord(items=frozenset({'soup', 'meatballs'}), support=0.006657789613848202, ordered_statistics=[OrderedStatistic(items_base=frozenset({'meatballs'}), items_add=frozenset({'soup'}), confidence=0.2777777777777778, lift=3.476851851851852)]),\n",
       " RelationRecord(items=frozenset({'spinach', 'mineral water'}), support=0.006657789613848202, ordered_statistics=[OrderedStatistic(items_base=frozenset({'spinach'}), items_add=frozenset({'mineral water'}), confidence=0.8333333333333333, lift=3.193027210884354)]),\n",
       " RelationRecord(items=frozenset({'spaghetti', 'mint green tea'}), support=0.0039946737683089215, ordered_statistics=[OrderedStatistic(items_base=frozenset({'mint green tea'}), items_add=frozenset({'spaghetti'}), confidence=0.75, lift=4.1722222222222225)]),\n",
       " RelationRecord(items=frozenset({'shrimp', 'oil'}), support=0.005326231691078562, ordered_statistics=[OrderedStatistic(items_base=frozenset({'oil'}), items_add=frozenset({'shrimp'}), confidence=0.23529411764705885, lift=3.046653144016228)]),\n",
       " RelationRecord(items=frozenset({'tomato juice', 'oil'}), support=0.006657789613848202, ordered_statistics=[OrderedStatistic(items_base=frozenset({'oil'}), items_add=frozenset({'tomato juice'}), confidence=0.29411764705882354, lift=6.310924369747899)]),\n",
       " RelationRecord(items=frozenset({'tomato sauce', 'olive oil'}), support=0.005326231691078562, ordered_statistics=[OrderedStatistic(items_base=frozenset({'tomato sauce'}), items_add=frozenset({'olive oil'}), confidence=0.2857142857142857, lift=4.048517520215633)]),\n",
       " RelationRecord(items=frozenset({'whole wheat pasta', 'olive oil'}), support=0.014647137150466045, ordered_statistics=[OrderedStatistic(items_base=frozenset({'olive oil'}), items_add=frozenset({'whole wheat pasta'}), confidence=0.20754716981132074, lift=5.374756018217306), OrderedStatistic(items_base=frozenset({'whole wheat pasta'}), items_add=frozenset({'olive oil'}), confidence=0.37931034482758624, lift=5.374756018217306)]),\n",
       " RelationRecord(items=frozenset({'pancakes', 'tea'}), support=0.0039946737683089215, ordered_statistics=[OrderedStatistic(items_base=frozenset({'tea'}), items_add=frozenset({'pancakes'}), confidence=0.75, lift=11.044117647058824)]),\n",
       " RelationRecord(items=frozenset({'shrimp', 'pasta'}), support=0.02663115845539281, ordered_statistics=[OrderedStatistic(items_base=frozenset({'pasta'}), items_add=frozenset({'shrimp'}), confidence=0.8695652173913043, lift=11.25937031484258), OrderedStatistic(items_base=frozenset({'shrimp'}), items_add=frozenset({'pasta'}), confidence=0.3448275862068966, lift=11.25937031484258)]),\n",
       " RelationRecord(items=frozenset({'soda', 'soup'}), support=0.0039946737683089215, ordered_statistics=[OrderedStatistic(items_base=frozenset({'soda'}), items_add=frozenset({'soup'}), confidence=0.75, lift=9.387500000000001)])]"
      ]
     },
     "execution_count": 9,
     "metadata": {},
     "output_type": "execute_result"
    }
   ],
   "source": [
    "results"
   ]
  },
  {
   "cell_type": "markdown",
   "metadata": {
    "colab_type": "text",
    "id": "MFkQP-fcjDBC"
   },
   "source": [
    "### Putting the results well organised into a Pandas DataFrame"
   ]
  },
  {
   "cell_type": "code",
   "execution_count": 10,
   "metadata": {},
   "outputs": [],
   "source": [
    "def inspect(results):\n",
    "    lhs         = [tuple(result[2][0][0])[0] for result in results]\n",
    "    rhs         = [tuple(result[2][0][1])[0] for result in results]\n",
    "    supports    = [result[1] for result in results]\n",
    "    confidences = [result[2][0][2] for result in results]\n",
    "    lifts       = [result[2][0][3] for result in results]\n",
    "    return list(zip(lhs, rhs, supports, confidences, lifts))\n",
    "resultsinDataFrame = pd.DataFrame(inspect(results), columns = ['Left Hand Side', 'Right Hand Side', 'Support', 'Confidence', 'Lift'])"
   ]
  },
  {
   "cell_type": "markdown",
   "metadata": {
    "colab_type": "text",
    "id": "Pfn-G1eAjjLz"
   },
   "source": [
    "### Displaying the results non sorted"
   ]
  },
  {
   "cell_type": "code",
   "execution_count": 11,
   "metadata": {},
   "outputs": [
    {
     "data": {
      "text/html": [
       "<div>\n",
       "<style scoped>\n",
       "    .dataframe tbody tr th:only-of-type {\n",
       "        vertical-align: middle;\n",
       "    }\n",
       "\n",
       "    .dataframe tbody tr th {\n",
       "        vertical-align: top;\n",
       "    }\n",
       "\n",
       "    .dataframe thead th {\n",
       "        text-align: right;\n",
       "    }\n",
       "</style>\n",
       "<table border=\"1\" class=\"dataframe\">\n",
       "  <thead>\n",
       "    <tr style=\"text-align: right;\">\n",
       "      <th></th>\n",
       "      <th>Left Hand Side</th>\n",
       "      <th>Right Hand Side</th>\n",
       "      <th>Support</th>\n",
       "      <th>Confidence</th>\n",
       "      <th>Lift</th>\n",
       "    </tr>\n",
       "  </thead>\n",
       "  <tbody>\n",
       "    <tr>\n",
       "      <td>0</td>\n",
       "      <td>almonds</td>\n",
       "      <td>burgers</td>\n",
       "      <td>0.007989</td>\n",
       "      <td>0.285714</td>\n",
       "      <td>3.576190</td>\n",
       "    </tr>\n",
       "    <tr>\n",
       "      <td>1</td>\n",
       "      <td>almonds</td>\n",
       "      <td>soup</td>\n",
       "      <td>0.009321</td>\n",
       "      <td>0.333333</td>\n",
       "      <td>4.172222</td>\n",
       "    </tr>\n",
       "    <tr>\n",
       "      <td>2</td>\n",
       "      <td>asparagus</td>\n",
       "      <td>milk</td>\n",
       "      <td>0.003995</td>\n",
       "      <td>0.600000</td>\n",
       "      <td>4.845161</td>\n",
       "    </tr>\n",
       "    <tr>\n",
       "      <td>3</td>\n",
       "      <td>avocado</td>\n",
       "      <td>soup</td>\n",
       "      <td>0.007989</td>\n",
       "      <td>0.272727</td>\n",
       "      <td>3.413636</td>\n",
       "    </tr>\n",
       "    <tr>\n",
       "      <td>4</td>\n",
       "      <td>barbecue sauce</td>\n",
       "      <td>milk</td>\n",
       "      <td>0.003995</td>\n",
       "      <td>0.428571</td>\n",
       "      <td>3.460829</td>\n",
       "    </tr>\n",
       "    <tr>\n",
       "      <td>...</td>\n",
       "      <td>...</td>\n",
       "      <td>...</td>\n",
       "      <td>...</td>\n",
       "      <td>...</td>\n",
       "      <td>...</td>\n",
       "    </tr>\n",
       "    <tr>\n",
       "      <td>74</td>\n",
       "      <td>tomato sauce</td>\n",
       "      <td>olive oil</td>\n",
       "      <td>0.005326</td>\n",
       "      <td>0.285714</td>\n",
       "      <td>4.048518</td>\n",
       "    </tr>\n",
       "    <tr>\n",
       "      <td>75</td>\n",
       "      <td>olive oil</td>\n",
       "      <td>whole wheat pasta</td>\n",
       "      <td>0.014647</td>\n",
       "      <td>0.207547</td>\n",
       "      <td>5.374756</td>\n",
       "    </tr>\n",
       "    <tr>\n",
       "      <td>76</td>\n",
       "      <td>tea</td>\n",
       "      <td>pancakes</td>\n",
       "      <td>0.003995</td>\n",
       "      <td>0.750000</td>\n",
       "      <td>11.044118</td>\n",
       "    </tr>\n",
       "    <tr>\n",
       "      <td>77</td>\n",
       "      <td>pasta</td>\n",
       "      <td>shrimp</td>\n",
       "      <td>0.026631</td>\n",
       "      <td>0.869565</td>\n",
       "      <td>11.259370</td>\n",
       "    </tr>\n",
       "    <tr>\n",
       "      <td>78</td>\n",
       "      <td>soda</td>\n",
       "      <td>soup</td>\n",
       "      <td>0.003995</td>\n",
       "      <td>0.750000</td>\n",
       "      <td>9.387500</td>\n",
       "    </tr>\n",
       "  </tbody>\n",
       "</table>\n",
       "<p>79 rows × 5 columns</p>\n",
       "</div>"
      ],
      "text/plain": [
       "    Left Hand Side    Right Hand Side   Support  Confidence       Lift\n",
       "0          almonds            burgers  0.007989    0.285714   3.576190\n",
       "1          almonds               soup  0.009321    0.333333   4.172222\n",
       "2        asparagus               milk  0.003995    0.600000   4.845161\n",
       "3          avocado               soup  0.007989    0.272727   3.413636\n",
       "4   barbecue sauce               milk  0.003995    0.428571   3.460829\n",
       "..             ...                ...       ...         ...        ...\n",
       "74    tomato sauce          olive oil  0.005326    0.285714   4.048518\n",
       "75       olive oil  whole wheat pasta  0.014647    0.207547   5.374756\n",
       "76             tea           pancakes  0.003995    0.750000  11.044118\n",
       "77           pasta             shrimp  0.026631    0.869565  11.259370\n",
       "78            soda               soup  0.003995    0.750000   9.387500\n",
       "\n",
       "[79 rows x 5 columns]"
      ]
     },
     "execution_count": 11,
     "metadata": {},
     "output_type": "execute_result"
    }
   ],
   "source": [
    "resultsinDataFrame"
   ]
  },
  {
   "cell_type": "markdown",
   "metadata": {
    "colab_type": "text",
    "id": "IjrrlYW4jpTR"
   },
   "source": [
    "### Displaying the results sorted by descending lifts"
   ]
  },
  {
   "cell_type": "code",
   "execution_count": 12,
   "metadata": {},
   "outputs": [
    {
     "data": {
      "text/html": [
       "<div>\n",
       "<style scoped>\n",
       "    .dataframe tbody tr th:only-of-type {\n",
       "        vertical-align: middle;\n",
       "    }\n",
       "\n",
       "    .dataframe tbody tr th {\n",
       "        vertical-align: top;\n",
       "    }\n",
       "\n",
       "    .dataframe thead th {\n",
       "        text-align: right;\n",
       "    }\n",
       "</style>\n",
       "<table border=\"1\" class=\"dataframe\">\n",
       "  <thead>\n",
       "    <tr style=\"text-align: right;\">\n",
       "      <th></th>\n",
       "      <th>Left Hand Side</th>\n",
       "      <th>Right Hand Side</th>\n",
       "      <th>Support</th>\n",
       "      <th>Confidence</th>\n",
       "      <th>Lift</th>\n",
       "    </tr>\n",
       "  </thead>\n",
       "  <tbody>\n",
       "    <tr>\n",
       "      <td>65</td>\n",
       "      <td>light cream</td>\n",
       "      <td>tomato sauce</td>\n",
       "      <td>0.003995</td>\n",
       "      <td>0.250000</td>\n",
       "      <td>13.410714</td>\n",
       "    </tr>\n",
       "    <tr>\n",
       "      <td>40</td>\n",
       "      <td>french wine</td>\n",
       "      <td>rice</td>\n",
       "      <td>0.005326</td>\n",
       "      <td>0.222222</td>\n",
       "      <td>11.920635</td>\n",
       "    </tr>\n",
       "    <tr>\n",
       "      <td>77</td>\n",
       "      <td>pasta</td>\n",
       "      <td>shrimp</td>\n",
       "      <td>0.026631</td>\n",
       "      <td>0.869565</td>\n",
       "      <td>11.259370</td>\n",
       "    </tr>\n",
       "    <tr>\n",
       "      <td>76</td>\n",
       "      <td>tea</td>\n",
       "      <td>pancakes</td>\n",
       "      <td>0.003995</td>\n",
       "      <td>0.750000</td>\n",
       "      <td>11.044118</td>\n",
       "    </tr>\n",
       "    <tr>\n",
       "      <td>56</td>\n",
       "      <td>mint</td>\n",
       "      <td>ham</td>\n",
       "      <td>0.003995</td>\n",
       "      <td>0.272727</td>\n",
       "      <td>10.240909</td>\n",
       "    </tr>\n",
       "    <tr>\n",
       "      <td>11</td>\n",
       "      <td>blueberries</td>\n",
       "      <td>cooking oil</td>\n",
       "      <td>0.003995</td>\n",
       "      <td>0.500000</td>\n",
       "      <td>9.387500</td>\n",
       "    </tr>\n",
       "    <tr>\n",
       "      <td>78</td>\n",
       "      <td>soda</td>\n",
       "      <td>soup</td>\n",
       "      <td>0.003995</td>\n",
       "      <td>0.750000</td>\n",
       "      <td>9.387500</td>\n",
       "    </tr>\n",
       "    <tr>\n",
       "      <td>18</td>\n",
       "      <td>cottage cheese</td>\n",
       "      <td>butter</td>\n",
       "      <td>0.003995</td>\n",
       "      <td>0.214286</td>\n",
       "      <td>8.469925</td>\n",
       "    </tr>\n",
       "    <tr>\n",
       "      <td>35</td>\n",
       "      <td>extra dark chocolate</td>\n",
       "      <td>turkey</td>\n",
       "      <td>0.005326</td>\n",
       "      <td>0.666667</td>\n",
       "      <td>8.344444</td>\n",
       "    </tr>\n",
       "    <tr>\n",
       "      <td>23</td>\n",
       "      <td>extra dark chocolate</td>\n",
       "      <td>chicken</td>\n",
       "      <td>0.003995</td>\n",
       "      <td>0.500000</td>\n",
       "      <td>8.163043</td>\n",
       "    </tr>\n",
       "  </tbody>\n",
       "</table>\n",
       "</div>"
      ],
      "text/plain": [
       "          Left Hand Side Right Hand Side   Support  Confidence       Lift\n",
       "65           light cream    tomato sauce  0.003995    0.250000  13.410714\n",
       "40           french wine            rice  0.005326    0.222222  11.920635\n",
       "77                 pasta          shrimp  0.026631    0.869565  11.259370\n",
       "76                   tea        pancakes  0.003995    0.750000  11.044118\n",
       "56                  mint             ham  0.003995    0.272727  10.240909\n",
       "11           blueberries     cooking oil  0.003995    0.500000   9.387500\n",
       "78                  soda            soup  0.003995    0.750000   9.387500\n",
       "18        cottage cheese          butter  0.003995    0.214286   8.469925\n",
       "35  extra dark chocolate          turkey  0.005326    0.666667   8.344444\n",
       "23  extra dark chocolate         chicken  0.003995    0.500000   8.163043"
      ]
     },
     "execution_count": 12,
     "metadata": {},
     "output_type": "execute_result"
    }
   ],
   "source": [
    "resultsinDataFrame.nlargest(n = 10, columns = 'Lift')"
   ]
  },
  {
   "cell_type": "code",
   "execution_count": null,
   "metadata": {},
   "outputs": [],
   "source": []
  }
 ],
 "metadata": {
  "colab": {
   "collapsed_sections": [],
   "name": "apriori.ipynb",
   "provenance": []
  },
  "kernelspec": {
   "display_name": "Python 3",
   "language": "python",
   "name": "python3"
  },
  "language_info": {
   "codemirror_mode": {
    "name": "ipython",
    "version": 3
   },
   "file_extension": ".py",
   "mimetype": "text/x-python",
   "name": "python",
   "nbconvert_exporter": "python",
   "pygments_lexer": "ipython3",
   "version": "3.7.4"
  }
 },
 "nbformat": 4,
 "nbformat_minor": 1
}
